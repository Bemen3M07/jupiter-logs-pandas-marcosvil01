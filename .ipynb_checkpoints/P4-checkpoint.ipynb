{
 "cells": [
  {
   "cell_type": "markdown",
   "id": "7a01e473-e463-4bba-acfc-6a8d04f5c487",
   "metadata": {},
   "source": [
    "# Pràctica 4: Confecció d’informes\n"
   ]
  },
  {
   "cell_type": "markdown",
   "id": "829e8bbe-1989-467a-bb22-aa2540651750",
   "metadata": {},
   "source": [
    "```tail -f file.log```\n"
   ]
  },
  {
   "cell_type": "markdown",
   "id": "3c42b4c0-e8b4-4c6f-b155-51529e60ed7a",
   "metadata": {},
   "source": [
    "## Exercici 1\n",
    "### Explica quines comandes de Linux Pots fer servir a l’hora d’analitzar logs escrits a fitxerper a:\n",
    "- Veure contínuament els logs que es van escrivint a un arxiu\n"
   ]
  },
  {
   "cell_type": "markdown",
   "id": "9ec553d9-62c9-429e-ad67-0dee7de9ea91",
   "metadata": {},
   "source": [
    "```tail -f nom_fitxer.log```"
   ]
  },
  {
   "cell_type": "markdown",
   "id": "1e560e15-8caf-4ad2-905a-a7f49003e40d",
   "metadata": {},
   "source": [
    "- Cercar una paraula concreta dintre d’un arxiu de log"
   ]
  },
  {
   "cell_type": "markdown",
   "id": "dca188ff-e698-447a-81d2-57665b97dc5d",
   "metadata": {},
   "source": [
    "```grep \"INFO\" file.log```"
   ]
  },
  {
   "cell_type": "markdown",
   "id": "7ee64dec-a43f-410d-88c5-35a4442a0b5c",
   "metadata": {},
   "source": [
    "## Exercici 2\n",
    "\n",
    "El concepte logging és molt important en la programació, alhora que està estrictament relacionat amb el tema que estem treballant. Un log en el nostre àmbit vindria a ser un fitxer que conté dades relacionades amb els principals esdeveniments i successos que ocorren en un programa o en un sistema operatiu, així doncs, ja sigui per saber en quin punt hem tingut un error, perquè l'execució del programa no ha anat bé, o quina sèrie de passes ha seguit una persona mentre utilitzava la nostra aplicació i moltes altres utilitats, els Logs són vitals al món del software.\n",
    "\n",
    "#### **1. Configuració del logging**\n",
    "En aquest exercici recuperarem el bucle d’exemple que vam fer servir a les sessions de teoria, i configurarem el log per què els missatges d’error (i superiors) vagin a un arxiu, i els missatges d’info (i superiors) vagin a un altre arxiu, mentre que tots els missatges es mostren a la vegada per pantalla. A més, afegirem un nou missatge d’info a l’aplicació pel que farem servir un logger especial i diferent del que ja hem fet servir, i que tindrà un manegador amb format CSV. Fes commit al repositori cada vegada que tinguis resolt i funcionant una d’aquestes coses:\n",
    "\n",
    "- Logs d’info a fitxer de logs d’info i logs d’error a fitxer de logs d’error.\n",
    "- Afegir, a més del handler de fitxer per a fitxers info, un handler de pantalla amb nivell info.\n",
    "- Afegir un nou logger amb un nou manegador i un nou formatador a CSV, i afegir una línia al programa que generi aquests logs.\n",
    "- Pujar al repositori una mostra d’unes 20 línies dels fitxers de logs generats per la vostra aplicació: un d’info, un d’error, i un en format CSV.\n",
    "a un altre\n"
   ]
  },
  {
   "cell_type": "code",
   "execution_count": 1,
   "id": "9ab1a203-749d-44ee-9695-885b333c375d",
   "metadata": {},
   "outputs": [
    {
     "name": "stderr",
     "output_type": "stream",
     "text": [
      "INFO - Aquest és un missatge d'info al pas 1\n",
      "INFO - Aquest és un missatge d'info al pas 2\n",
      "INFO - Aquest és un missatge d'info al pas 3\n",
      "INFO - Aquest és un missatge d'info al pas 4\n",
      "ERROR - Aquest és un missatge d'error al pas 5\n",
      "INFO - Aquest és un missatge d'info al pas 6\n",
      "INFO - Aquest és un missatge d'info al pas 7\n",
      "INFO - Aquest és un missatge d'info al pas 8\n",
      "INFO - Aquest és un missatge d'info al pas 9\n",
      "ERROR - Aquest és un missatge d'error al pas 10\n",
      "INFO - Aquest és un missatge d'info al pas 11\n",
      "INFO - Aquest és un missatge d'info al pas 12\n",
      "INFO - Aquest és un missatge d'info al pas 13\n",
      "INFO - Aquest és un missatge d'info al pas 14\n",
      "ERROR - Aquest és un missatge d'error al pas 15\n",
      "INFO - Aquest és un missatge d'info al pas 16\n",
      "INFO - Aquest és un missatge d'info al pas 17\n",
      "INFO - Aquest és un missatge d'info al pas 18\n",
      "INFO - Aquest és un missatge d'info al pas 19\n",
      "ERROR - Aquest és un missatge d'error al pas 20\n"
     ]
    },
    {
     "name": "stdout",
     "output_type": "stream",
     "text": [
      "Generació de logs completada. Comprova els fitxers dins de la carpeta 'P4/ex_1'.\n"
     ]
    }
   ],
   "source": [
    "import logging\n",
    "import os\n",
    "\n",
    "# 1. Crear la carpeta 'P4/ex_1' si no existeix\n",
    "os.makedirs(\"P4/ex_1\", exist_ok=True)  # Crea les carpetes necessàries\n",
    "\n",
    "# 2. Configuració del logger principal\n",
    "logger = logging.getLogger(\"AppLogger\")  # Crear un logger principal\n",
    "logger.setLevel(logging.DEBUG)  # Registra tots els nivells, des de DEBUG fins a CRITICAL\n",
    "\n",
    "# 2.1. Handler per a logs d'INFO (es guarda a 'P4/ex_1/info.log')\n",
    "info_handler = logging.FileHandler('P4/ex_1/info.log')  # Fitxer on es guarden logs d'INFO\n",
    "info_handler.setLevel(logging.INFO)  # Només registra INFO i nivells superiors (INFO, WARNING, ERROR, CRITICAL)\n",
    "info_format = logging.Formatter('%(asctime)s - %(levelname)s - %(message)s')  # Format del log\n",
    "info_handler.setFormatter(info_format)  # Assignar el format al handler\n",
    "\n",
    "# 2.2. Handler per a logs d'ERROR (es guarda a 'P4/ex_1/error.log')\n",
    "error_handler = logging.FileHandler('P4/ex_1/error.log')  # Fitxer per a logs d'ERROR\n",
    "error_handler.setLevel(logging.ERROR)  # Només registra ERROR i nivells superiors\n",
    "error_format = logging.Formatter('%(asctime)s - %(levelname)s - %(message)s')  # Format del log\n",
    "error_handler.setFormatter(error_format)  # Assignar el format al handler\n",
    "\n",
    "# 2.3. Handler per mostrar logs a la pantalla\n",
    "console_handler = logging.StreamHandler()  # Mostra els logs a la terminal\n",
    "console_handler.setLevel(logging.INFO)  # Mostra INFO i nivells superiors\n",
    "console_format = logging.Formatter('%(levelname)s - %(message)s')  # Format senzill per a la terminal\n",
    "console_handler.setFormatter(console_format)  # Assignar el format al handler\n",
    "\n",
    "# Afegir els handlers al logger principal\n",
    "logger.addHandler(info_handler)\n",
    "logger.addHandler(error_handler)\n",
    "logger.addHandler(console_handler)\n",
    "\n",
    "# 3. Configuració del logger especial per a CSV\n",
    "csv_logger = logging.getLogger(\"CSVLogger\")  # Crear un logger per a CSV\n",
    "csv_logger.setLevel(logging.INFO)  # Registra INFO i nivells superiors\n",
    "\n",
    "# 3.1. Handler per a CSV (es guarda a 'P4/ex_1/logs.csv')\n",
    "csv_handler = logging.FileHandler('P4/ex_1/logs.csv', mode='w', encoding='utf-8')  # Fitxer CSV per a logs\n",
    "csv_format = logging.Formatter('%(asctime)s,%(levelname)s,%(message)s', datefmt='%Y-%m-%d %H:%M:%S')  # Format del CSV\n",
    "csv_handler.setFormatter(csv_format)  # Assignar el format al handler\n",
    "csv_logger.addHandler(csv_handler)  # Afegir el handler al logger CSV\n",
    "\n",
    "# 4. Generar logs d'exemple\n",
    "try:\n",
    "    for i in range(1, 21):  # Generar 20 línies de logs\n",
    "        if i % 5 == 0:  # Cada 5 línies, generar un missatge d'ERROR\n",
    "            logger.error(f\"Aquest és un missatge d'error al pas {i}\")\n",
    "        else:  # Generar un missatge d'INFO en els altres casos\n",
    "            logger.info(f\"Aquest és un missatge d'info al pas {i}\")\n",
    "        # Generar logs també en format CSV\n",
    "        csv_logger.info(f\"Missatge CSV: Linia {i}\")\n",
    "except Exception as e:  # Capturar qualsevol error\n",
    "    logger.critical(f\"S'ha produït un error crític: {str(e)}\")  # Registra un missatge CRITICAL\n",
    "\n",
    "# 5. Finalització\n",
    "print(\"Generació de logs completada. Comprova els fitxers dins de la carpeta 'P4/ex_1'.\")\n"
   ]
  },
  {
   "cell_type": "markdown",
   "id": "d5f552d4-ea40-4148-82f3-9245c7c598bb",
   "metadata": {},
   "source": [
    "## Exercici 2 - Pregunta 2\n",
    "\n",
    "**Pregunta:**  \n",
    "Que creieu que és millor: mostrar els logs a la terminal durant l'execució del programa o bolcar-los en un fitxer de text?\n",
    "\n",
    "**Resposta:**  \n",
    "La millor opció depèn del context i de les necessitats del programa. A continuació, analitzem els avantatges i desavantatges de cadascuna:\n",
    "\n",
    "### **1. Mostrar els logs a la terminal**\n",
    "#### Avantatges:\n",
    "- Permet supervisar els esdeveniments del programa en temps real.\n",
    "- Ideal per a aplicacions en desenvolupament o depuració.\n",
    "- No requereix espai de memòria addicional per guardar logs.\n",
    "\n",
    "#### Desavantatges:\n",
    "- Els logs no es conserven després de tancar el programa.\n",
    "- Difícil d'analitzar si hi ha molta informació en poc temps.\n",
    "\n",
    "### **2. Bolcar els logs en un fitxer de text**\n",
    "#### Avantatges:\n",
    "- Els logs es guarden i es poden revisar més tard.\n",
    "- Ideal per a programes en producció on els errors s'han d'analitzar posteriorment.\n",
    "- És possible cercar informació específica en el fitxer amb eines com `grep`.\n",
    "\n",
    "#### Desavantatges:\n",
    "- Requereix espai d'emmagatzematge.\n",
    "- No permet supervisió immediata sense obrir el fitxer.\n",
    "\n",
    "### **Conclusió:**\n",
    "La millor opció és combinar ambdues opcions. Per exemple:\n",
    "- Durant el desenvolupament, mostrar els logs a la terminal per supervisar el programa en temps real.\n",
    "- En producció, guardar els logs en fitxers per poder analitzar-los posteriorment i mantenir un registre històric.\n"
   ]
  },
  {
   "cell_type": "markdown",
   "id": "fb55456f-a17c-4afc-8a73-df62d2da57ac",
   "metadata": {},
   "source": [
    "## Exercici 2 - Pregunta 3\n",
    "\n",
    "**Pregunta:**  \n",
    "Omple la següent taula amb exemple, avantantges, i desavantatges de les següents maneres de fer logs: (inclou-la al readme.md)\n",
    "\n",
    "| **Mètode**                                       | **Exemple**                                                                                          | **Avantatges**                                                                                              | **Desavantatges**                                                                                           |\n",
    "|--------------------------------------------------|------------------------------------------------------------------------------------------------------|-------------------------------------------------------------------------------------------------------------|-------------------------------------------------------------------------------------------------------------|\n",
    "| Fent servir la configuració per defecte del mòdul logging | `logging.basicConfig(level=logging.INFO)`                                                            | - Configuració ràpida i senzilla.<br>- No requereix fitxers de configuració externs.<br>- Apte per projectes petits. | - Limitada per a configuracions complexes.<br>- Difícil de mantenir en projectes grans amb diversos loggers. |\n",
    "| Instanciant un objecte logger i parametritzant-lo des de programa | `logger = logging.getLogger(\"AppLogger\")`<br>`logger.setLevel(logging.DEBUG)`                         | - Permet una configuració detallada.<br>- Fàcil d'adaptar segons les necessitats del programa.              | - Necessita més línies de codi.<br>- Pot ser confús en projectes molt grans si no s’organitza correctament.  |\n",
    "| Instanciant un objecte logger a partir d’una configuració emmagatzemada a fitxer | Fitxer de configuració `logging.conf`:<br>`[logger_root]`<br>`level=DEBUG`<br>`handlers=consoleHandler` | - Facilita el manteniment en projectes grans.<br>- Permet una configuració modular.<br>- Reutilitzable entre projectes. | - Requereix preparar un fitxer de configuració extern.<br>- Més difícil de configurar inicialment.           |\n"
   ]
  },
  {
   "cell_type": "markdown",
   "id": "9bd65e1d-c489-433e-9169-a4c7f9251dbe",
   "metadata": {},
   "source": [
    "## Exercici 2 - Pregunta 4\n",
    "\n",
    "**Pregunta:**  \n",
    "Cerca llibreries de logs en altres llenguatjes (al menys 2, i identifica cóm resolen les següents característiques típiques d’un sistema de logging.  Omple la següent taula, i inclou-la al read-me del repositori:\n",
    "\n",
    "## Comparativa de llibreries de logging\n",
    "\n",
    "| **Característica**                            | **Llenguatge 1: Python**                   | **Llenguatge 2: Java**                     |\n",
    "|-----------------------------------------------|--------------------------------------------|--------------------------------------------|\n",
    "| **Llenguatge**                                | Python                                     | Java                                       |\n",
    "| **Nom de la llibreria**                       | logging                                    | Log4j                                      |\n",
    "| **És nativa del llenguatge?**                 | Sí                                         | No (però molt utilitzada com estàndard)    |\n",
    "| **URL per descarregar-se la llibreria**       | Inclosa a la biblioteca estàndard de Python | https://logging.apache.org/log4j/2.x/     |\n",
    "| **Inicialització de l’objecte de logger**     | `logger = logging.getLogger(\"NomLogger\")`  | `Logger logger = LogManager.getLogger(\"NomLogger\");` |\n",
    "| **Nivells de log disponibles**                | DEBUG, INFO, WARNING, ERROR, CRITICAL      | TRACE, DEBUG, INFO, WARN, ERROR, FATAL    |\n",
    "| **Mètode per fer log**                        | `logger.info(\"Missatge\")`                  | `logger.info(\"Missatge\");`                 |\n",
    "| **Tipus de manegadors (pantalla, fitxer...)** | ConsoleHandler, FileHandler, StreamHandler | ConsoleAppender, FileAppender             |\n",
    "| **Opcions de format**                         | `%asctime`, `%levelname`, `%message`       | `%d{ISO8601} %p %c - %m%n`                |\n"
   ]
  },
  {
   "cell_type": "markdown",
   "id": "ae61e3ca-1531-4686-80d6-7a7cc1b1600d",
   "metadata": {},
   "source": [
    "## Exercici 3\n",
    "\n",
    "### Descripció\n",
    "\n",
    "Mitjançant les eines proposades a continuació, voldríem elaborar una petita aplicació que permetés a un treballador de forma senzilla introduir mitjançant un fitxer json, txt csv o similar unes dades que escollim i generar una sèrie de gràfiques.\n",
    "\n",
    "### Eines proposades\n",
    "\n",
    "#### **Pandas**\n",
    "- **Funcionalitat:** Llibreria de Python per a la manipulació i anàlisi de dades estructurades.\n",
    "- **Ús:** Permet carregar fitxers de dades com CSV, JSON o TXT, manipular les dades, calcular estadístiques i preparar-les per a visualitzacions.\n",
    "\n",
    "#### **Jupyter Notebook**\n",
    "- **Funcionalitat:** Interfície interactiva que combina codi, text i visualitzacions en un document.\n",
    "- **Ús:** Documentar el procés d’anàlisi de dades i visualització amb codi interactiu.\n",
    "\n",
    "#### **Reportlab**\n",
    "- **Funcionalitat:** Llibreria per a generar documents PDF programàticament.\n",
    "- **Ús:** Crear informes finals que incloguin gràfiques i estadíss calEines + Aplicació rpeta 'P4/ex_3' per veure els resultats.\")\n",
    "\n",
    "## Eines + Aplicació:.\n"
   ]
  },
  {
   "cell_type": "code",
   "execution_count": 1,
   "id": "761ff705-253e-4143-bd7f-090ff8ba9266",
   "metadata": {},
   "outputs": [
    {
     "name": "stdout",
     "output_type": "stream",
     "text": [
      "Dades carregades:\n",
      "     Nom  Edat Gènere     Ciutat\n",
      "0   Anna    22      F  Barcelona\n",
      "1   Marc    34      M     Madrid\n",
      "2   Joan    28      M   València\n",
      "3  Laura    19      F  Barcelona\n",
      "4   Pere    42      M     Madrid\n",
      "La mitjana de Edat és: 29.33\n"
     ]
    },
    {
     "data": {
      "image/png": "[encoded data removed]",
      "text/plain": [
       "<Figure size 1000x600 with 1 Axes>"
      ]
     },
     "metadata": {},
     "output_type": "display_data"
    },
    {
     "name": "stdout",
     "output_type": "stream",
     "text": [
      "Informe PDF generat correctament!\n",
      "Aplicació completada correctament. Consulta la carpeta 'P4/ex_3' per veure els resultats.\n"
     ]
    }
   ],
   "source": [
    "import pandas as pd\n",
    "import matplotlib.pyplot as plt\n",
    "from reportlab.lib.pagesizes import letter\n",
    "from reportlab.pdfgen import canvas\n",
    "import os\n",
    "\n",
    "# 1. Crear una carpeta per guardar els resultats\n",
    "os.makedirs(\"P4/ex_3\", exist_ok=True)\n",
    "\n",
    "# 2. Funció per llegir fitxers (CSV, JSON, TXT)\n",
    "def llegir_dades(nom_fitxer):\n",
    "    try:\n",
    "        # Intenta llegir el fitxer segons el seu format\n",
    "        if nom_fitxer.endswith('.csv'):\n",
    "            return pd.read_csv(nom_fitxer)\n",
    "        elif nom_fitxer.endswith('.json'):\n",
    "            return pd.read_json(nom_fitxer)\n",
    "        elif nom_fitxer.endswith('.txt'):\n",
    "            return pd.read_csv(nom_fitxer, delimiter=\"\\t\")\n",
    "        else:\n",
    "            raise ValueError(\"Format de fitxer no suportat. Utilitza CSV, JSON o TXT.\")\n",
    "    except FileNotFoundError:\n",
    "        raise FileNotFoundError(f\"El fitxer '{nom_fitxer}' no s'ha trobat a la carpeta actual.\")\n",
    "\n",
    "\n",
    "# 3. Funció per generar una gràfica\n",
    "def generar_grafica(dades, columna_x, columna_y):\n",
    "    plt.figure(figsize=(10, 6))\n",
    "    plt.bar(dades[columna_x], dades[columna_y], color='skyblue')\n",
    "    plt.title(f'Gràfica de {columna_y} per {columna_x}')\n",
    "    plt.xlabel(columna_x)\n",
    "    plt.ylabel(columna_y)\n",
    "    plt.xticks(rotation=45)\n",
    "    plt.tight_layout()\n",
    "    plt.savefig(\"P4/ex_3/grafica.png\")\n",
    "    plt.show()\n",
    "\n",
    "# 4. Funció per generar un informe PDF\n",
    "def generar_informe(dades, mitjana, columna_y):\n",
    "    c = canvas.Canvas(\"P4/ex_3/informe.pdf\", pagesize=letter)\n",
    "    c.drawString(100, 750, \"Informe d'Anàlisi de Dades\")\n",
    "    c.drawString(100, 730, f\"Columna analitzada: {columna_y}\")\n",
    "    c.drawString(100, 710, f\"Mitjana de {columna_y}: {mitjana:.2f}\")\n",
    "    c.drawImage(\"P4/ex_3/grafica.png\", 50, 400, width=500, height=300)\n",
    "    c.save()\n",
    "    print(\"Informe PDF generat correctament!\")\n",
    "\n",
    "# 5. Execució del programa\n",
    "try:\n",
    "    # Introduir el fitxer (substitueix el camí per al teu fitxer)\n",
    "    dades = llegir_dades(\"dades_ficticies.csv\")\n",
    "    \n",
    "    # Mostrar les primeres files\n",
    "    print(\"Dades carregades:\")\n",
    "    print(dades.head())\n",
    "\n",
    "    # Seleccionar les columnes per analitzar\n",
    "    columna_x = \"Nom\"\n",
    "    columna_y = \"Edat\"\n",
    "\n",
    "    # Calcular estadístiques\n",
    "    mitjana = dades[columna_y].mean()\n",
    "    print(f\"La mitjana de {columna_y} és: {mitjana:.2f}\")\n",
    "\n",
    "    # Generar gràfica\n",
    "    generar_grafica(dades, columna_x, columna_y)\n",
    "\n",
    "    # Generar informe PDF\n",
    "    generar_informe(dades, mitjana, columna_y)\n",
    "\n",
    "    print(\"Aplicació completada correctament. Consulta la carpeta 'P4/ex_3' per veure els resultats.\")\n",
    "\n",
    "except Exception as e:\n",
    "    print(f\"Error: {e}\")"
   ]
  },
  {
   "cell_type": "markdown",
   "id": "24b44d82-6948-49a7-8acb-06ead3e8811e",
   "metadata": {},
   "source": [
    "## Exercici 4\r\n",
    "\r\n",
    "En aquest exercici caldrà generar per exemple un CSV amb les dades que treballareu. **RECORDAR** que el CSV treballa amb comes.\r\n",
    "\r\n",
    "Un cop generat el CSV, caldrà bolcar les dades al **Jupyter Notebook** i comprovar que es mostren correctament.\r\n",
    "\r\n",
    "### Exemple de taula:\r\n",
    "\r\n",
    "| Professor | Alumne | M01 | M04 | M03 | M05 |\r\n",
    "|-----------|--------|-----|-----|-----|-----|\r\n",
    "| Emili     | Xavier | 7   | 9   | 5   | 8   |\r\n",
    "| Mario      | Marc   | 10  | 3   | 5   | 8   |\r\n",
    "| Steven    | Jaume  | 8   | 5   | 6   | 4   |\r\n",
    "\r\n",
    "### Restriccions:\r\n",
    "1. El fitxer ha de contenir un mínim de **20 persones**.\r\n",
    "2. Cada registre ha de tenir **5 columnes amb dades**.\r\n",
    "\r\n",
    "### Punt de control:\r\n",
    "Caldrà avisar al professor per revisar la feina feta fins aquest exercici per assolir aquest punt de control.\r\n"
   ]
  },
  {
   "cell_type": "code",
   "execution_count": 4,
   "id": "abb9a915-dd49-4c51-a93e-2ff4ad145a4b",
   "metadata": {},
   "outputs": [
    {
     "name": "stdout",
     "output_type": "stream",
     "text": [
      "Fitxer CSV 'dades2.csv' generat correctament.\n"
     ]
    },
    {
     "ename": "FileNotFoundError",
     "evalue": "[Errno 2] No such file or directory: 'dades.csv'",
     "output_type": "error",
     "traceback": [
      "\u001b[1;31m---------------------------------------------------------------------------\u001b[0m",
      "\u001b[1;31mFileNotFoundError\u001b[0m                         Traceback (most recent call last)",
      "Cell \u001b[1;32mIn[4], line 28\u001b[0m\n\u001b[0;32m     25\u001b[0m \u001b[38;5;28;01mimport\u001b[39;00m \u001b[38;5;21;01mpandas\u001b[39;00m \u001b[38;5;28;01mas\u001b[39;00m \u001b[38;5;21;01mpd\u001b[39;00m\n\u001b[0;32m     27\u001b[0m \u001b[38;5;66;03m# Llegir el fitxer CSV\u001b[39;00m\n\u001b[1;32m---> 28\u001b[0m df \u001b[38;5;241m=\u001b[39m pd\u001b[38;5;241m.\u001b[39mread_csv(\u001b[38;5;124m\"\u001b[39m\u001b[38;5;124mdades.csv\u001b[39m\u001b[38;5;124m\"\u001b[39m)\n\u001b[0;32m     30\u001b[0m \u001b[38;5;66;03m# Mostrar les primeres files\u001b[39;00m\n\u001b[0;32m     31\u001b[0m \u001b[38;5;28mprint\u001b[39m(\u001b[38;5;124m\"\u001b[39m\u001b[38;5;124mDades carregades:\u001b[39m\u001b[38;5;124m\"\u001b[39m)\n",
      "File \u001b[1;32m~\\anaconda3\\Lib\\site-packages\\pandas\\io\\parsers\\readers.py:1026\u001b[0m, in \u001b[0;36mread_csv\u001b[1;34m(filepath_or_buffer, sep, delimiter, header, names, index_col, usecols, dtype, engine, converters, true_values, false_values, skipinitialspace, skiprows, skipfooter, nrows, na_values, keep_default_na, na_filter, verbose, skip_blank_lines, parse_dates, infer_datetime_format, keep_date_col, date_parser, date_format, dayfirst, cache_dates, iterator, chunksize, compression, thousands, decimal, lineterminator, quotechar, quoting, doublequote, escapechar, comment, encoding, encoding_errors, dialect, on_bad_lines, delim_whitespace, low_memory, memory_map, float_precision, storage_options, dtype_backend)\u001b[0m\n\u001b[0;32m   1013\u001b[0m kwds_defaults \u001b[38;5;241m=\u001b[39m _refine_defaults_read(\n\u001b[0;32m   1014\u001b[0m     dialect,\n\u001b[0;32m   1015\u001b[0m     delimiter,\n\u001b[1;32m   (...)\u001b[0m\n\u001b[0;32m   1022\u001b[0m     dtype_backend\u001b[38;5;241m=\u001b[39mdtype_backend,\n\u001b[0;32m   1023\u001b[0m )\n\u001b[0;32m   1024\u001b[0m kwds\u001b[38;5;241m.\u001b[39mupdate(kwds_defaults)\n\u001b[1;32m-> 1026\u001b[0m \u001b[38;5;28;01mreturn\u001b[39;00m _read(filepath_or_buffer, kwds)\n",
      "File \u001b[1;32m~\\anaconda3\\Lib\\site-packages\\pandas\\io\\parsers\\readers.py:620\u001b[0m, in \u001b[0;36m_read\u001b[1;34m(filepath_or_buffer, kwds)\u001b[0m\n\u001b[0;32m    617\u001b[0m _validate_names(kwds\u001b[38;5;241m.\u001b[39mget(\u001b[38;5;124m\"\u001b[39m\u001b[38;5;124mnames\u001b[39m\u001b[38;5;124m\"\u001b[39m, \u001b[38;5;28;01mNone\u001b[39;00m))\n\u001b[0;32m    619\u001b[0m \u001b[38;5;66;03m# Create the parser.\u001b[39;00m\n\u001b[1;32m--> 620\u001b[0m parser \u001b[38;5;241m=\u001b[39m TextFileReader(filepath_or_buffer, \u001b[38;5;241m*\u001b[39m\u001b[38;5;241m*\u001b[39mkwds)\n\u001b[0;32m    622\u001b[0m \u001b[38;5;28;01mif\u001b[39;00m chunksize \u001b[38;5;129;01mor\u001b[39;00m iterator:\n\u001b[0;32m    623\u001b[0m     \u001b[38;5;28;01mreturn\u001b[39;00m parser\n",
      "File \u001b[1;32m~\\anaconda3\\Lib\\site-packages\\pandas\\io\\parsers\\readers.py:1620\u001b[0m, in \u001b[0;36mTextFileReader.__init__\u001b[1;34m(self, f, engine, **kwds)\u001b[0m\n\u001b[0;32m   1617\u001b[0m     \u001b[38;5;28mself\u001b[39m\u001b[38;5;241m.\u001b[39moptions[\u001b[38;5;124m\"\u001b[39m\u001b[38;5;124mhas_index_names\u001b[39m\u001b[38;5;124m\"\u001b[39m] \u001b[38;5;241m=\u001b[39m kwds[\u001b[38;5;124m\"\u001b[39m\u001b[38;5;124mhas_index_names\u001b[39m\u001b[38;5;124m\"\u001b[39m]\n\u001b[0;32m   1619\u001b[0m \u001b[38;5;28mself\u001b[39m\u001b[38;5;241m.\u001b[39mhandles: IOHandles \u001b[38;5;241m|\u001b[39m \u001b[38;5;28;01mNone\u001b[39;00m \u001b[38;5;241m=\u001b[39m \u001b[38;5;28;01mNone\u001b[39;00m\n\u001b[1;32m-> 1620\u001b[0m \u001b[38;5;28mself\u001b[39m\u001b[38;5;241m.\u001b[39m_engine \u001b[38;5;241m=\u001b[39m \u001b[38;5;28mself\u001b[39m\u001b[38;5;241m.\u001b[39m_make_engine(f, \u001b[38;5;28mself\u001b[39m\u001b[38;5;241m.\u001b[39mengine)\n",
      "File \u001b[1;32m~\\anaconda3\\Lib\\site-packages\\pandas\\io\\parsers\\readers.py:1880\u001b[0m, in \u001b[0;36mTextFileReader._make_engine\u001b[1;34m(self, f, engine)\u001b[0m\n\u001b[0;32m   1878\u001b[0m     \u001b[38;5;28;01mif\u001b[39;00m \u001b[38;5;124m\"\u001b[39m\u001b[38;5;124mb\u001b[39m\u001b[38;5;124m\"\u001b[39m \u001b[38;5;129;01mnot\u001b[39;00m \u001b[38;5;129;01min\u001b[39;00m mode:\n\u001b[0;32m   1879\u001b[0m         mode \u001b[38;5;241m+\u001b[39m\u001b[38;5;241m=\u001b[39m \u001b[38;5;124m\"\u001b[39m\u001b[38;5;124mb\u001b[39m\u001b[38;5;124m\"\u001b[39m\n\u001b[1;32m-> 1880\u001b[0m \u001b[38;5;28mself\u001b[39m\u001b[38;5;241m.\u001b[39mhandles \u001b[38;5;241m=\u001b[39m get_handle(\n\u001b[0;32m   1881\u001b[0m     f,\n\u001b[0;32m   1882\u001b[0m     mode,\n\u001b[0;32m   1883\u001b[0m     encoding\u001b[38;5;241m=\u001b[39m\u001b[38;5;28mself\u001b[39m\u001b[38;5;241m.\u001b[39moptions\u001b[38;5;241m.\u001b[39mget(\u001b[38;5;124m\"\u001b[39m\u001b[38;5;124mencoding\u001b[39m\u001b[38;5;124m\"\u001b[39m, \u001b[38;5;28;01mNone\u001b[39;00m),\n\u001b[0;32m   1884\u001b[0m     compression\u001b[38;5;241m=\u001b[39m\u001b[38;5;28mself\u001b[39m\u001b[38;5;241m.\u001b[39moptions\u001b[38;5;241m.\u001b[39mget(\u001b[38;5;124m\"\u001b[39m\u001b[38;5;124mcompression\u001b[39m\u001b[38;5;124m\"\u001b[39m, \u001b[38;5;28;01mNone\u001b[39;00m),\n\u001b[0;32m   1885\u001b[0m     memory_map\u001b[38;5;241m=\u001b[39m\u001b[38;5;28mself\u001b[39m\u001b[38;5;241m.\u001b[39moptions\u001b[38;5;241m.\u001b[39mget(\u001b[38;5;124m\"\u001b[39m\u001b[38;5;124mmemory_map\u001b[39m\u001b[38;5;124m\"\u001b[39m, \u001b[38;5;28;01mFalse\u001b[39;00m),\n\u001b[0;32m   1886\u001b[0m     is_text\u001b[38;5;241m=\u001b[39mis_text,\n\u001b[0;32m   1887\u001b[0m     errors\u001b[38;5;241m=\u001b[39m\u001b[38;5;28mself\u001b[39m\u001b[38;5;241m.\u001b[39moptions\u001b[38;5;241m.\u001b[39mget(\u001b[38;5;124m\"\u001b[39m\u001b[38;5;124mencoding_errors\u001b[39m\u001b[38;5;124m\"\u001b[39m, \u001b[38;5;124m\"\u001b[39m\u001b[38;5;124mstrict\u001b[39m\u001b[38;5;124m\"\u001b[39m),\n\u001b[0;32m   1888\u001b[0m     storage_options\u001b[38;5;241m=\u001b[39m\u001b[38;5;28mself\u001b[39m\u001b[38;5;241m.\u001b[39moptions\u001b[38;5;241m.\u001b[39mget(\u001b[38;5;124m\"\u001b[39m\u001b[38;5;124mstorage_options\u001b[39m\u001b[38;5;124m\"\u001b[39m, \u001b[38;5;28;01mNone\u001b[39;00m),\n\u001b[0;32m   1889\u001b[0m )\n\u001b[0;32m   1890\u001b[0m \u001b[38;5;28;01massert\u001b[39;00m \u001b[38;5;28mself\u001b[39m\u001b[38;5;241m.\u001b[39mhandles \u001b[38;5;129;01mis\u001b[39;00m \u001b[38;5;129;01mnot\u001b[39;00m \u001b[38;5;28;01mNone\u001b[39;00m\n\u001b[0;32m   1891\u001b[0m f \u001b[38;5;241m=\u001b[39m \u001b[38;5;28mself\u001b[39m\u001b[38;5;241m.\u001b[39mhandles\u001b[38;5;241m.\u001b[39mhandle\n",
      "File \u001b[1;32m~\\anaconda3\\Lib\\site-packages\\pandas\\io\\common.py:873\u001b[0m, in \u001b[0;36mget_handle\u001b[1;34m(path_or_buf, mode, encoding, compression, memory_map, is_text, errors, storage_options)\u001b[0m\n\u001b[0;32m    868\u001b[0m \u001b[38;5;28;01melif\u001b[39;00m \u001b[38;5;28misinstance\u001b[39m(handle, \u001b[38;5;28mstr\u001b[39m):\n\u001b[0;32m    869\u001b[0m     \u001b[38;5;66;03m# Check whether the filename is to be opened in binary mode.\u001b[39;00m\n\u001b[0;32m    870\u001b[0m     \u001b[38;5;66;03m# Binary mode does not support 'encoding' and 'newline'.\u001b[39;00m\n\u001b[0;32m    871\u001b[0m     \u001b[38;5;28;01mif\u001b[39;00m ioargs\u001b[38;5;241m.\u001b[39mencoding \u001b[38;5;129;01mand\u001b[39;00m \u001b[38;5;124m\"\u001b[39m\u001b[38;5;124mb\u001b[39m\u001b[38;5;124m\"\u001b[39m \u001b[38;5;129;01mnot\u001b[39;00m \u001b[38;5;129;01min\u001b[39;00m ioargs\u001b[38;5;241m.\u001b[39mmode:\n\u001b[0;32m    872\u001b[0m         \u001b[38;5;66;03m# Encoding\u001b[39;00m\n\u001b[1;32m--> 873\u001b[0m         handle \u001b[38;5;241m=\u001b[39m \u001b[38;5;28mopen\u001b[39m(\n\u001b[0;32m    874\u001b[0m             handle,\n\u001b[0;32m    875\u001b[0m             ioargs\u001b[38;5;241m.\u001b[39mmode,\n\u001b[0;32m    876\u001b[0m             encoding\u001b[38;5;241m=\u001b[39mioargs\u001b[38;5;241m.\u001b[39mencoding,\n\u001b[0;32m    877\u001b[0m             errors\u001b[38;5;241m=\u001b[39merrors,\n\u001b[0;32m    878\u001b[0m             newline\u001b[38;5;241m=\u001b[39m\u001b[38;5;124m\"\u001b[39m\u001b[38;5;124m\"\u001b[39m,\n\u001b[0;32m    879\u001b[0m         )\n\u001b[0;32m    880\u001b[0m     \u001b[38;5;28;01melse\u001b[39;00m:\n\u001b[0;32m    881\u001b[0m         \u001b[38;5;66;03m# Binary mode\u001b[39;00m\n\u001b[0;32m    882\u001b[0m         handle \u001b[38;5;241m=\u001b[39m \u001b[38;5;28mopen\u001b[39m(handle, ioargs\u001b[38;5;241m.\u001b[39mmode)\n",
      "\u001b[1;31mFileNotFoundError\u001b[0m: [Errno 2] No such file or directory: 'dades.csv'"
     ]
    }
   ],
   "source": [
    "import pandas as pd\n",
    "# generació del csv\n",
    "# Dades d'exemple\n",
    "dades = {\n",
    "    \"Professor\": [\"Emili\", \"Mario\", \"Steven\", \"Laura\", \"Josep\", \"Anna\", \"Martí\", \"Núria\", \"Pere\", \"Joan\",\n",
    "                  \"Clara\", \"Marta\", \"Gerard\", \"Berta\", \"Sergi\", \"Marc\", \"Pol\", \"Helena\", \"Guillem\", \"Sara\"],\n",
    "    \"Alumne\": [\"Xavier\", \"Marc\", \"Jaume\", \"Júlia\", \"Pau\", \"Maria\", \"David\", \"Anna\", \"Carla\", \"Roger\",\n",
    "               \"Dani\", \"Esther\", \"Sofia\", \"Adrià\", \"Irene\", \"Arnau\", \"Albert\", \"Jana\", \"Carles\", \"Emma\"],\n",
    "    \"M01\": [7, 10, 8, 6, 9, 8, 7, 5, 10, 6, 7, 8, 5, 6, 8, 7, 9, 8, 7, 6],\n",
    "    \"M04\": [9, 3, 5, 8, 7, 6, 8, 7, 9, 8, 7, 5, 8, 7, 6, 8, 7, 5, 9, 8],\n",
    "    \"M03\": [5, 5, 6, 7, 6, 5, 8, 7, 6, 8, 7, 6, 8, 7, 5, 6, 8, 7, 6, 5],\n",
    "    \"M05\": [8, 8, 4, 9, 7, 8, 6, 5, 7, 6, 8, 7, 5, 6, 7, 8, 6, 8, 7, 5]\n",
    "}\n",
    "\n",
    "# Crear DataFrame\n",
    "df = pd.DataFrame(dades)\n",
    "\n",
    "# Guardar a un fitxer CSV\n",
    "df.to_csv(\"dades2.csv\", index=False)\n",
    "\n",
    "print(\"Fitxer CSV 'dades2.csv' generat correctament.\")\n",
    "\n",
    "#volcar dades\n",
    "# Importar pandas\n",
    "import pandas as pd\n",
    "\n",
    "# Llegir el fitxer CSV\n",
    "df = pd.read_csv(\"dades2.csv\")\n",
    "\n",
    "# Mostrar les primeres files\n",
    "print(\"Dades carregades:\")\n",
    "print(df.head())\n",
    "\n",
    "# Comprovar dimensions del DataFrame\n",
    "print(f\"El DataFrame té {df.shape[0]} registres i {df.shape[1]} columnes.\")\n",
    "\n"
   ]
  },
  {
   "cell_type": "code",
   "execution_count": null,
   "id": "0b986594-4dda-4742-9157-e5eed78098e4",
   "metadata": {},
   "outputs": [],
   "source": []
  }
 ],
 "metadata": {
  "kernelspec": {
   "display_name": "Python 3 (ipykernel)",
   "language": "python",
   "name": "python3"
  },
  "language_info": {
   "codemirror_mode": {
    "name": "ipython",
    "version": 3
   },
   "file_extension": ".py",
   "mimetype": "text/x-python",
   "name": "python",
   "nbconvert_exporter": "python",
   "pygments_lexer": "ipython3",
   "version": "3.12.4"
  }
 },
 "nbformat": 4,
 "nbformat_minor": 5
}
